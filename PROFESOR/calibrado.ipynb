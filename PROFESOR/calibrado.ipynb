{
 "cells": [
  {
   "cell_type": "code",
   "execution_count": 1,
   "metadata": {},
   "outputs": [],
   "source": [
    "import cv2\n",
    "import numpy as np"
   ]
  },
  {
   "cell_type": "code",
   "execution_count": 2,
   "metadata": {},
   "outputs": [],
   "source": [
    "DICARUCO = cv2.aruco.DICT_5X5_50\n",
    "FILAS = 7\n",
    "COLUMNAS = 11\n",
    "TAMCASILLA = 0.025  #25 mm\n",
    "TAMMARCADOR = 0.018 #18 mm\n",
    "\n",
    "DICCIONARIO = cv2.aruco.getPredefinedDictionary(DICARUCO)\n",
    "tablero = cv2.aruco.CharucoBoard((FILAS, COLUMNAS), TAMCASILLA, TAMMARCADOR, DICCIONARIO)"
   ]
  },
  {
   "cell_type": "code",
   "execution_count": 3,
   "metadata": {},
   "outputs": [
    {
     "name": "stdout",
     "output_type": "stream",
     "text": [
      "La imagen 'charuco.tiff' debe imprimirse respetando sus dimensiones de 175 mm x 275 mm\n"
     ]
    }
   ],
   "source": [
    "#tablero.setLegacyPattern(True) #Esto permite el uso un tablero de anteriores versiones\n",
    "detector = cv2.aruco.CharucoDetector(tablero)\n",
    "\n",
    "paraimprimir = tablero.generateImage((FILAS*100, COLUMNAS*100))\n",
    "cv2.imwrite(\"charuco.tiff\", paraimprimir)\n",
    "print(\"La imagen 'charuco.tiff' debe imprimirse respetando sus dimensiones de\", round(FILAS*TAMCASILLA*1000), \"mm x\", round(COLUMNAS*TAMCASILLA*1000), \"mm\")"
   ]
  },
  {
   "cell_type": "code",
   "execution_count": 4,
   "metadata": {},
   "outputs": [
    {
     "name": "stdout",
     "output_type": "stream",
     "text": [
      "Espera mientras calculo los resultados de calibración de la cámara...\n",
      "Los resultados de calibración se han guardado en el fichero camara.py\n"
     ]
    }
   ],
   "source": [
    "import cv2\n",
    "import numpy as np\n",
    "import time\n",
    "\n",
    "#tablero.setLegacyPattern(True) #Esto permite el uso un tablero de anteriores versiones\n",
    "detector = cv2.aruco.CharucoDetector(tablero)\n",
    "\n",
    "CPS = 1 # Capturamos a una tasa máxima de CPS imágenes por segundo\n",
    "esquinas = []\n",
    "marcadores = []\n",
    "tiempo = 1.0 / CPS\n",
    "\n",
    "cap = cv2.VideoCapture(0)\n",
    "if cap.isOpened():\n",
    "    wframe = int(cap.get(cv2.CAP_PROP_FRAME_WIDTH))\n",
    "    hframe = int(cap.get(cv2.CAP_PROP_FRAME_HEIGHT))\n",
    "    final = False\n",
    "    n = 0\n",
    "    antes = time.time()\n",
    "    while not final:\n",
    "        ret, frame = cap.read()\n",
    "        if not ret:\n",
    "            final = True\n",
    "        else:\n",
    "            if time.time()-antes > tiempo:\n",
    "                bboxs, ids, _, _ = detector.detectBoard(frame)\n",
    "                if ids is not None and ids.size>8:\n",
    "                        antes = time.time()\n",
    "                        cv2.aruco.drawDetectedCornersCharuco(frame, bboxs, ids)\n",
    "                        esquinas.append(bboxs)\n",
    "                        marcadores.append(ids)\n",
    "                        n = n + 1\n",
    "            cv2.putText(frame, str(n), (50,50), cv2.FONT_HERSHEY_SIMPLEX, 1, (0,0,255))\n",
    "            cv2.imshow(\"WEBCAM\", frame)\n",
    "            if cv2.waitKey(20) == 27:\n",
    "                final = True\n",
    "    cap.release()\n",
    "    cv2.destroyAllWindows()\n",
    "    if n == 0:\n",
    "        print(\"No se han capturado imágenes para hacer la calibración\")\n",
    "    else:\n",
    "        print(\"Espera mientras calculo los resultados de calibración de la cámara...\")\n",
    "\n",
    "        cameraMatrixInt = np.array([[ 1000,    0, hframe/2],\n",
    "                                    [    0, 1000, wframe/2],\n",
    "                                    [    0,    0,        1]])\n",
    "        distCoeffsInt = np.zeros((5, 1))\n",
    "        flags = (cv2.CALIB_USE_INTRINSIC_GUESS + cv2.CALIB_RATIONAL_MODEL + cv2.CALIB_FIX_ASPECT_RATIO)\n",
    "        (ret, cameraMatrix, distCoeffs, rvec, tvec, stdInt, stdExt, errores) = cv2.aruco.calibrateCameraCharucoExtended(charucoCorners=esquinas,\n",
    "                                                                                                                charucoIds=marcadores,\n",
    "                                                                                                                board=tablero,\n",
    "                                                                                                                imageSize=(hframe, wframe),\n",
    "                                                                                                                cameraMatrix=cameraMatrixInt,\n",
    "                                                                                                                distCoeffs=distCoeffsInt,\n",
    "                                                                                                                flags=flags,\n",
    "                                                                                                                criteria=(cv2.TERM_CRITERIA_EPS & cv2.TERM_CRITERIA_COUNT, 10000, 1e-9))\n",
    "\n",
    "        with open('camara.py', 'w') as fichero:\n",
    "            fichero.write(\"import numpy as np\\n\")\n",
    "            fichero.write(\"cameraMatrix = np.\")\n",
    "            fichero.write(repr(cameraMatrix))\n",
    "            fichero.write(\"\\ndistCoeffs = np.\")\n",
    "            fichero.write(repr(distCoeffs))\n",
    "            fichero.close()\n",
    "            print(\"Los resultados de calibración se han guardado en el fichero camara.py\")\n",
    "else:\n",
    "    print(\"No se pudo abrir la cámara\")\n"
   ]
  },
  {
   "cell_type": "code",
   "execution_count": 7,
   "metadata": {},
   "outputs": [],
   "source": [
    "%%capture\n",
    "import cuia\n",
    "#Declaramos la cámara que usaremos\n",
    "cam = 0\n",
    "#Seleccionamos el mejor backend\n",
    "bk = cuia.bestBackend(cam)\n",
    "\n",
    "try:\n",
    "    import camara\n",
    "    cameraMatrix = camara.cameraMatrix\n",
    "    distCoeffs = camara.distCoeffs\n",
    "except ImportError:\n",
    "    # Si la cámara no estaba calibrada suponemos que no presenta distorsiones\n",
    "    webcam = cv2.VideoCapture(cam,bk)\n",
    "    ancho = int(webcam.get(cv2.CAP_PROP_FRAME_WIDTH))\n",
    "    alto = int(webcam.get(cv2.CAP_PROP_FRAME_HEIGHT))\n",
    "    webcam.release()\n",
    "    cameraMatrix = np.array([[ 1000,    0, ancho/2],\n",
    "                             [    0, 1000,  alto/2],\n",
    "                             [    0,    0,       1]])\n",
    "    distCoeffs = np.zeros((5, 1)) "
   ]
  },
  {
   "cell_type": "code",
   "execution_count": null,
   "metadata": {},
   "outputs": [],
   "source": []
  }
 ],
 "metadata": {
  "kernelspec": {
   "display_name": "kids_veggies_env",
   "language": "python",
   "name": "python3"
  },
  "language_info": {
   "codemirror_mode": {
    "name": "ipython",
    "version": 3
   },
   "file_extension": ".py",
   "mimetype": "text/x-python",
   "name": "python",
   "nbconvert_exporter": "python",
   "pygments_lexer": "ipython3",
   "version": "3.13.0"
  }
 },
 "nbformat": 4,
 "nbformat_minor": 2
}
